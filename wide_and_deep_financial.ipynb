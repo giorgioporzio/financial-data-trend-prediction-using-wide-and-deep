{
 "cells": [
  {
   "cell_type": "markdown",
   "metadata": {
    "colab_type": "text",
    "id": "V_jzX--TgKgj"
   },
   "source": [
    "# Overview"
   ]
  },
  {
   "cell_type": "markdown",
   "metadata": {
    "colab_type": "text",
    "id": "1WLUz4MogbLI"
   },
   "source": [
    "This Jupyter Notebook report shows an application of the wide and deep learning model proposed by Google. The wide and deep model consists of two parts: a linear classifier with ReLU as the activation function (wide), and a feed-forward neural network (deep). The purpose of combining these two models is to make use of the advantages of both models: wide for memorization and deep for generalization. In this report, I will be doing a financial data trend prediction using partial data from the [NASDAQ 100 stock dataset](http://cseweb.ucsd.edu/~yaq007/nasdaq100.zip). The following of this report will walk through all the process from data preparation, neural network construction and result evaluation. "
   ]
  },
  {
   "cell_type": "markdown",
   "metadata": {
    "colab_type": "text",
    "id": "AAQYIBmaoCCs"
   },
   "source": [
    "# Data Preparation"
   ]
  },
  {
   "cell_type": "markdown",
   "metadata": {
    "colab_type": "text",
    "id": "TzJrGXZNloIX"
   },
   "source": [
    "First of all, import all necessary python packages such as tensorflow and numpy. The matplotlib was also imported in order to visualize the trend of the data. "
   ]
  },
  {
   "cell_type": "code",
   "execution_count": 1,
   "metadata": {
    "colab": {},
    "colab_type": "code",
    "id": "SFet8-uXn8zM"
   },
   "outputs": [],
   "source": [
    "import tensorflow as tf\n",
    "import numpy as np\n",
    "import matplotlib.pyplot as plt"
   ]
  },
  {
   "cell_type": "markdown",
   "metadata": {
    "colab_type": "text",
    "id": "O2zoyQi9pLFZ"
   },
   "source": [
    "The dataset file was provided as a local text file with the name \"aal.txt\". Import the dataset file and extract the data"
   ]
  },
  {
   "cell_type": "code",
   "execution_count": 2,
   "metadata": {
    "colab": {},
    "colab_type": "code",
    "id": "hG_zJBUHoi5Q"
   },
   "outputs": [],
   "source": [
    "#from google.colab import files\n",
    "FILE_NAME = 'aal.txt'\n",
    "#if not tf.gfile.Exists(FILE_NAME):\n",
    "#  uploaded = files.upload()"
   ]
  },
  {
   "cell_type": "code",
   "execution_count": 3,
   "metadata": {
    "colab": {
     "base_uri": "https://localhost:8080/",
     "height": 34
    },
    "colab_type": "code",
    "id": "vsi4fc_no49C",
    "outputId": "fbaa0841-7801-4a62-ce2b-d444877a1a5c"
   },
   "outputs": [
    {
     "data": {
      "text/plain": [
       "array([35.98  , 35.931 , 35.9044, ..., 48.53  , 48.56  , 48.56  ])"
      ]
     },
     "execution_count": 3,
     "metadata": {},
     "output_type": "execute_result"
    }
   ],
   "source": [
    "with open(FILE_NAME, 'r') as fid:\n",
    "  lines = fid.readlines()\n",
    "  \n",
    "lines = [line.split('\\r')[0] for line in lines]\n",
    "lines = [line.split('\\n')[0] for line in lines]\n",
    "while '' in lines:\n",
    "  lines.remove('')\n",
    "data = np.asarray(list(map(float, lines)))\n",
    "data"
   ]
  },
  {
   "cell_type": "markdown",
   "metadata": {
    "colab_type": "text",
    "id": "_QTPg1ugpH5j"
   },
   "source": [
    "Plot the data to visualize the trend"
   ]
  },
  {
   "cell_type": "code",
   "execution_count": 4,
   "metadata": {
    "colab": {
     "base_uri": "https://localhost:8080/",
     "height": 347
    },
    "colab_type": "code",
    "id": "kpFL8fOTpJNp",
    "outputId": "c85aad1a-99c2-4f5c-9cdb-0464419a3342"
   },
   "outputs": [
    {
     "data": {
      "image/png": "[encoded data removed]",
      "text/plain": [
       "<Figure size 432x288 with 1 Axes>"
      ]
     },
     "metadata": {
      "needs_background": "light"
     },
     "output_type": "display_data"
    }
   ],
   "source": [
    "plt.plot(data)\n",
    "plt.show()"
   ]
  },
  {
   "cell_type": "markdown",
   "metadata": {
    "colab_type": "text",
    "id": "-3pFwEiEoRZD"
   },
   "source": [
    "# Data Preprocessing"
   ]
  },
  {
   "cell_type": "markdown",
   "metadata": {
    "colab_type": "text",
    "id": "jLYZSkYJpbMi"
   },
   "source": [
    "Before building up the neural network and feeding the data into the network, I split the data into training and testing sets. Three quarters of all the data were used for training and the rest quarter were used for testing and evaluating. "
   ]
  },
  {
   "cell_type": "code",
   "execution_count": 5,
   "metadata": {
    "colab": {},
    "colab_type": "code",
    "id": "52QSs1BDpWYr"
   },
   "outputs": [],
   "source": [
    "data_length = len(data)\n",
    "train_length = int(0.75 * data_length)\n",
    "test_length = data_length - train_length\n",
    "train_data = data[:train_length]\n",
    "test_data = data[train_length:data_length]"
   ]
  },
  {
   "cell_type": "markdown",
   "metadata": {
    "colab_type": "text",
    "id": "-d7b163trFtf"
   },
   "source": [
    "Since the goal of this project is to predict the trend from looking at a certain time interval of data, I classified the data into two classes: increasing (represented as class 1) and decreasing (represented as class 0). The flattened train data is reshaped into many groups of data segments with length 60, representing the data within 60 minutes. The predicted trend of the financial data is the trend in the past 60 minutes. Finally, I converted the class labels to one-hot encoded vectors. "
   ]
  },
  {
   "cell_type": "code",
   "execution_count": 6,
   "metadata": {
    "colab": {},
    "colab_type": "code",
    "id": "irZa8j47p3nM"
   },
   "outputs": [],
   "source": [
    "train_data_norm = (train_data - np.mean(train_data)) / np.std(train_data)\n",
    "test_data_norm = (test_data - np.mean(test_data)) / np.std(test_data)\n",
    "\n",
    "# Reshape and prepare for the training data and labels\n",
    "window_size = 60\n",
    "X_train = train_data_norm.reshape(-1, window_size)\n",
    "train_labels = np.sign(X_train[:,-1] - X_train[:,0])\n",
    "\n",
    "# Convert the two-class labels to one-hot encoded vectors\n",
    "train_labels[np.where(train_labels==-1)] = 0\n",
    "y_train_onehot = np.eye(2)[train_labels.astype(int)]\n",
    "\n",
    "# Reshape and prepare for the testing data and labels\n",
    "X_test = test_data_norm.reshape(-1, window_size)\n",
    "test_labels = np.sign(X_test[:,-1] - X_test[:,0])\n",
    "\n",
    "# Convert the two-class labels to one-hot encoded vectors\n",
    "test_labels[np.where(test_labels==-1)] = 0\n",
    "y_test_onehot = np.eye(2)[test_labels.astype(int)]"
   ]
  },
  {
   "cell_type": "markdown",
   "metadata": {
    "colab_type": "text",
    "id": "o08bowlhoUKj"
   },
   "source": [
    "# Construct the Neural Network"
   ]
  },
  {
   "cell_type": "markdown",
   "metadata": {
    "colab_type": "text",
    "id": "fLLk3O-g6eEF"
   },
   "source": [
    "The wide and deep neural network was built using keras. "
   ]
  },
  {
   "cell_type": "code",
   "execution_count": 7,
   "metadata": {
    "colab": {
     "base_uri": "https://localhost:8080/",
     "height": 34
    },
    "colab_type": "code",
    "id": "7GHfKfmiubYw",
    "outputId": "631bbac3-622c-471b-adf2-15de3d179235"
   },
   "outputs": [
    {
     "name": "stderr",
     "output_type": "stream",
     "text": [
      "Using TensorFlow backend.\n"
     ]
    }
   ],
   "source": [
    "from keras.models import Model, Input\n",
    "from keras.layers.merge import add, concatenate\n",
    "from keras.layers import Dense"
   ]
  },
  {
   "cell_type": "markdown",
   "metadata": {
    "colab_type": "text",
    "id": "QSTG4OJaSkfu"
   },
   "source": [
    "The wide neural network was a simple linear classifier with ReLU activation function. The input layer has 60 nodes representing time series data within 60 minutes. "
   ]
  },
  {
   "cell_type": "code",
   "execution_count": 8,
   "metadata": {
    "colab": {
     "base_uri": "https://localhost:8080/",
     "height": 202
    },
    "colab_type": "code",
    "id": "MIWDBv7lujax",
    "outputId": "0f9bab00-a641-46e7-c4c8-81db0c20a943"
   },
   "outputs": [
    {
     "name": "stdout",
     "output_type": "stream",
     "text": [
      "_________________________________________________________________\n",
      "Layer (type)                 Output Shape              Param #   \n",
      "=================================================================\n",
      "common_input (InputLayer)    (None, 60)                0         \n",
      "_________________________________________________________________\n",
      "wide_out (Dense)             (None, 2)                 122       \n",
      "=================================================================\n",
      "Total params: 122\n",
      "Trainable params: 122\n",
      "Non-trainable params: 0\n",
      "_________________________________________________________________\n"
     ]
    }
   ],
   "source": [
    "# Wide\n",
    "common_input = Input(shape=X_train[1].shape, name='common_input')\n",
    "wide_out = Dense(2, activation='relu', name='wide_out')(common_input)\n",
    "wide_model = Model(inputs=common_input, outputs=wide_out)\n",
    "wide_model.summary()"
   ]
  },
  {
   "cell_type": "markdown",
   "metadata": {
    "colab_type": "text",
    "id": "Xw_oWYsLTLYu"
   },
   "source": [
    "The deep neural network was a feed-forward neural network with 2 hidden layers with 125 nodes and 50 nodes, and 1 output layer with 2 nodes representing 2 classes. Each layer has a ReLU activation function"
   ]
  },
  {
   "cell_type": "code",
   "execution_count": 9,
   "metadata": {
    "colab": {
     "base_uri": "https://localhost:8080/",
     "height": 269
    },
    "colab_type": "code",
    "id": "bJLksZWrwS2Q",
    "outputId": "d22cc29c-e2d0-49c6-a3f0-313921d47908"
   },
   "outputs": [
    {
     "name": "stdout",
     "output_type": "stream",
     "text": [
      "_________________________________________________________________\n",
      "Layer (type)                 Output Shape              Param #   \n",
      "=================================================================\n",
      "common_input (InputLayer)    (None, 60)                0         \n",
      "_________________________________________________________________\n",
      "deep1 (Dense)                (None, 125)               7625      \n",
      "_________________________________________________________________\n",
      "deep2 (Dense)                (None, 50)                6300      \n",
      "_________________________________________________________________\n",
      "deep_out (Dense)             (None, 2)                 102       \n",
      "=================================================================\n",
      "Total params: 14,027\n",
      "Trainable params: 14,027\n",
      "Non-trainable params: 0\n",
      "_________________________________________________________________\n"
     ]
    }
   ],
   "source": [
    "# Deep\n",
    "deep1 = Dense(125, activation='relu', name='deep1')(common_input)\n",
    "deep2 = Dense(50, activation='relu', name='deep2')(deep1)\n",
    "deep_out = Dense(2, activation='relu', name='deep_out')(deep2)\n",
    "deep_model = Model(inputs=common_input, outputs=deep_out)\n",
    "deep_model.summary()"
   ]
  },
  {
   "cell_type": "markdown",
   "metadata": {
    "colab_type": "text",
    "id": "AT56ba5-ARKR"
   },
   "source": [
    "Concatenate the outputs of both wide and deep network and put them into a single layer perceptron with a softmax activation function. "
   ]
  },
  {
   "cell_type": "code",
   "execution_count": 10,
   "metadata": {
    "colab": {
     "base_uri": "https://localhost:8080/",
     "height": 386
    },
    "colab_type": "code",
    "id": "tmAjWalEwZdZ",
    "outputId": "165f251b-2e20-41bd-d0f5-cd828af7019a"
   },
   "outputs": [
    {
     "name": "stdout",
     "output_type": "stream",
     "text": [
      "__________________________________________________________________________________________________\n",
      "Layer (type)                    Output Shape         Param #     Connected to                     \n",
      "==================================================================================================\n",
      "common_input (InputLayer)       (None, 60)           0                                            \n",
      "__________________________________________________________________________________________________\n",
      "deep1 (Dense)                   (None, 125)          7625        common_input[0][0]               \n",
      "__________________________________________________________________________________________________\n",
      "deep2 (Dense)                   (None, 50)           6300        deep1[0][0]                      \n",
      "__________________________________________________________________________________________________\n",
      "wide_out (Dense)                (None, 2)            122         common_input[0][0]               \n",
      "__________________________________________________________________________________________________\n",
      "deep_out (Dense)                (None, 2)            102         deep2[0][0]                      \n",
      "__________________________________________________________________________________________________\n",
      "wide_and_deep_in (Concatenate)  (None, 4)            0           wide_out[0][0]                   \n",
      "                                                                 deep_out[0][0]                   \n",
      "__________________________________________________________________________________________________\n",
      "wide_and_deep_out (Dense)       (None, 2)            10          wide_and_deep_in[0][0]           \n",
      "==================================================================================================\n",
      "Total params: 14,159\n",
      "Trainable params: 14,159\n",
      "Non-trainable params: 0\n",
      "__________________________________________________________________________________________________\n"
     ]
    }
   ],
   "source": [
    "# Concatenate wide and deep\n",
    "wide_and_deep_in = concatenate([wide_out, deep_out], name='wide_and_deep_in')\n",
    "wide_and_deep_out = Dense(2, activation='softmax', name='wide_and_deep_out')(wide_and_deep_in)\n",
    "wide_and_deep_model = Model(inputs=common_input, outputs=wide_and_deep_out)\n",
    "wide_and_deep_model.summary()"
   ]
  },
  {
   "cell_type": "markdown",
   "metadata": {
    "colab_type": "text",
    "id": "WD9VKwm3uOxx"
   },
   "source": [
    "# Train the Neural Network"
   ]
  },
  {
   "cell_type": "markdown",
   "metadata": {
    "colab_type": "text",
    "id": "OCd36J79Aohs"
   },
   "source": [
    "Since this is a two-class classification problem, I utilized the binary cross-entropy loss function and adaptive gradient update optimizer. The metrics for evaluation was the accuracy. After that, I trained the neural network with a batch size of 32 and I ran this process for 200 epochs. "
   ]
  },
  {
   "cell_type": "code",
   "execution_count": 11,
   "metadata": {
    "colab": {},
    "colab_type": "code",
    "id": "gI9uQlGlwm77"
   },
   "outputs": [],
   "source": [
    "wide_and_deep_model.compile(loss='binary_crossentropy', optimizer='adagrad', metrics=['accuracy'])"
   ]
  },
  {
   "cell_type": "code",
   "execution_count": 12,
   "metadata": {
    "colab": {
     "base_uri": "https://localhost:8080/",
     "height": 6754
    },
    "colab_type": "code",
    "id": "ChAdoYw9wqmu",
    "outputId": "5c7d2369-07a4-4d15-9d7a-4e05aa012991"
   },
   "outputs": [
    {
     "name": "stdout",
     "output_type": "stream",
     "text": [
      "Epoch 1/200\n",
      "507/507 [==============================] - 0s 661us/step - loss: 0.7277 - acc: 0.5089\n",
      "Epoch 2/200\n",
      "507/507 [==============================] - 0s 61us/step - loss: 0.6883 - acc: 0.5424\n",
      "Epoch 3/200\n",
      "507/507 [==============================] - 0s 63us/step - loss: 0.7127 - acc: 0.5542\n",
      "Epoch 4/200\n",
      "507/507 [==============================] - 0s 69us/step - loss: 0.6797 - acc: 0.5957\n",
      "Epoch 5/200\n",
      "507/507 [==============================] - 0s 65us/step - loss: 0.6752 - acc: 0.5799\n",
      "Epoch 6/200\n",
      "507/507 [==============================] - 0s 57us/step - loss: 0.6814 - acc: 0.5602\n",
      "Epoch 7/200\n",
      "507/507 [==============================] - 0s 63us/step - loss: 0.6801 - acc: 0.5819\n",
      "Epoch 8/200\n",
      "507/507 [==============================] - 0s 53us/step - loss: 0.6771 - acc: 0.5444\n",
      "Epoch 9/200\n",
      "507/507 [==============================] - 0s 67us/step - loss: 0.6598 - acc: 0.6055\n",
      "Epoch 10/200\n",
      "507/507 [==============================] - 0s 65us/step - loss: 0.6575 - acc: 0.6036\n",
      "Epoch 11/200\n",
      "507/507 [==============================] - 0s 53us/step - loss: 0.6691 - acc: 0.5740\n",
      "Epoch 12/200\n",
      "507/507 [==============================] - 0s 69us/step - loss: 0.6538 - acc: 0.5937\n",
      "Epoch 13/200\n",
      "507/507 [==============================] - 0s 65us/step - loss: 0.6560 - acc: 0.6154\n",
      "Epoch 14/200\n",
      "507/507 [==============================] - 0s 73us/step - loss: 0.6465 - acc: 0.6095\n",
      "Epoch 15/200\n",
      "507/507 [==============================] - 0s 77us/step - loss: 0.6370 - acc: 0.6489\n",
      "Epoch 16/200\n",
      "507/507 [==============================] - 0s 59us/step - loss: 0.6499 - acc: 0.6351\n",
      "Epoch 17/200\n",
      "507/507 [==============================] - 0s 67us/step - loss: 0.6540 - acc: 0.6430\n",
      "Epoch 18/200\n",
      "507/507 [==============================] - 0s 65us/step - loss: 0.6360 - acc: 0.6430\n",
      "Epoch 19/200\n",
      "507/507 [==============================] - 0s 65us/step - loss: 0.6229 - acc: 0.6746\n",
      "Epoch 20/200\n",
      "507/507 [==============================] - 0s 55us/step - loss: 0.6437 - acc: 0.6213\n",
      "Epoch 21/200\n",
      "507/507 [==============================] - 0s 65us/step - loss: 0.6320 - acc: 0.6430\n",
      "Epoch 22/200\n",
      "507/507 [==============================] - 0s 63us/step - loss: 0.6282 - acc: 0.6627\n",
      "Epoch 23/200\n",
      "507/507 [==============================] - 0s 67us/step - loss: 0.6222 - acc: 0.6943\n",
      "Epoch 24/200\n",
      "507/507 [==============================] - 0s 69us/step - loss: 0.6318 - acc: 0.6647\n",
      "Epoch 25/200\n",
      "507/507 [==============================] - 0s 73us/step - loss: 0.6123 - acc: 0.7002\n",
      "Epoch 26/200\n",
      "507/507 [==============================] - 0s 61us/step - loss: 0.6097 - acc: 0.6963\n",
      "Epoch 27/200\n",
      "507/507 [==============================] - 0s 69us/step - loss: 0.6166 - acc: 0.6884\n",
      "Epoch 28/200\n",
      "507/507 [==============================] - 0s 69us/step - loss: 0.6003 - acc: 0.7002\n",
      "Epoch 29/200\n",
      "507/507 [==============================] - 0s 59us/step - loss: 0.6081 - acc: 0.7061\n",
      "Epoch 30/200\n",
      "507/507 [==============================] - 0s 67us/step - loss: 0.6032 - acc: 0.6785\n",
      "Epoch 31/200\n",
      "507/507 [==============================] - 0s 61us/step - loss: 0.5941 - acc: 0.7337\n",
      "Epoch 32/200\n",
      "507/507 [==============================] - 0s 59us/step - loss: 0.6020 - acc: 0.7298\n",
      "Epoch 33/200\n",
      "507/507 [==============================] - 0s 57us/step - loss: 0.6036 - acc: 0.7337\n",
      "Epoch 34/200\n",
      "507/507 [==============================] - 0s 71us/step - loss: 0.5871 - acc: 0.7199\n",
      "Epoch 35/200\n",
      "507/507 [==============================] - 0s 71us/step - loss: 0.6063 - acc: 0.7061\n",
      "Epoch 36/200\n",
      "507/507 [==============================] - 0s 71us/step - loss: 0.6017 - acc: 0.6982\n",
      "Epoch 37/200\n",
      "507/507 [==============================] - 0s 71us/step - loss: 0.5962 - acc: 0.7061\n",
      "Epoch 38/200\n",
      "507/507 [==============================] - 0s 63us/step - loss: 0.5967 - acc: 0.7041\n",
      "Epoch 39/200\n",
      "507/507 [==============================] - 0s 71us/step - loss: 0.5815 - acc: 0.7278\n",
      "Epoch 40/200\n",
      "507/507 [==============================] - 0s 73us/step - loss: 0.5799 - acc: 0.7554\n",
      "Epoch 41/200\n",
      "507/507 [==============================] - 0s 63us/step - loss: 0.5887 - acc: 0.7258\n",
      "Epoch 42/200\n",
      "507/507 [==============================] - 0s 69us/step - loss: 0.5780 - acc: 0.7377\n",
      "Epoch 43/200\n",
      "507/507 [==============================] - 0s 67us/step - loss: 0.5819 - acc: 0.7298\n",
      "Epoch 44/200\n",
      "507/507 [==============================] - 0s 65us/step - loss: 0.5842 - acc: 0.7140\n",
      "Epoch 45/200\n",
      "507/507 [==============================] - 0s 57us/step - loss: 0.5730 - acc: 0.7416\n",
      "Epoch 46/200\n",
      "507/507 [==============================] - 0s 65us/step - loss: 0.5783 - acc: 0.7357\n",
      "Epoch 47/200\n",
      "507/507 [==============================] - 0s 65us/step - loss: 0.5915 - acc: 0.7416\n",
      "Epoch 48/200\n",
      "507/507 [==============================] - 0s 63us/step - loss: 0.5775 - acc: 0.7278\n",
      "Epoch 49/200\n",
      "507/507 [==============================] - 0s 63us/step - loss: 0.5742 - acc: 0.7653\n",
      "Epoch 50/200\n",
      "507/507 [==============================] - 0s 49us/step - loss: 0.5670 - acc: 0.7515\n",
      "Epoch 51/200\n",
      "507/507 [==============================] - 0s 79us/step - loss: 0.5627 - acc: 0.7416\n",
      "Epoch 52/200\n",
      "507/507 [==============================] - ETA: 0s - loss: 0.5619 - acc: 0.843 - 0s 57us/step - loss: 0.5662 - acc: 0.7613\n",
      "Epoch 53/200\n",
      "507/507 [==============================] - 0s 49us/step - loss: 0.5667 - acc: 0.7633\n",
      "Epoch 54/200\n",
      "507/507 [==============================] - 0s 65us/step - loss: 0.5762 - acc: 0.7377\n",
      "Epoch 55/200\n",
      "507/507 [==============================] - 0s 51us/step - loss: 0.5651 - acc: 0.7554\n",
      "Epoch 56/200\n",
      "507/507 [==============================] - 0s 59us/step - loss: 0.5577 - acc: 0.7673\n",
      "Epoch 57/200\n",
      "507/507 [==============================] - 0s 45us/step - loss: 0.5651 - acc: 0.7791\n",
      "Epoch 58/200\n",
      "507/507 [==============================] - 0s 65us/step - loss: 0.5647 - acc: 0.7377\n",
      "Epoch 59/200\n",
      "507/507 [==============================] - 0s 63us/step - loss: 0.5627 - acc: 0.7751\n",
      "Epoch 60/200\n",
      "507/507 [==============================] - 0s 65us/step - loss: 0.5655 - acc: 0.7712\n",
      "Epoch 61/200\n",
      "507/507 [==============================] - 0s 65us/step - loss: 0.5643 - acc: 0.7416\n",
      "Epoch 62/200\n",
      "507/507 [==============================] - 0s 65us/step - loss: 0.5580 - acc: 0.7633\n",
      "Epoch 63/200\n",
      "507/507 [==============================] - 0s 63us/step - loss: 0.5582 - acc: 0.7594\n",
      "Epoch 64/200\n",
      "507/507 [==============================] - 0s 65us/step - loss: 0.5595 - acc: 0.7850\n",
      "Epoch 65/200\n",
      "507/507 [==============================] - 0s 69us/step - loss: 0.5488 - acc: 0.7909\n",
      "Epoch 66/200\n",
      "507/507 [==============================] - 0s 67us/step - loss: 0.5622 - acc: 0.7692\n",
      "Epoch 67/200\n",
      "507/507 [==============================] - 0s 57us/step - loss: 0.5485 - acc: 0.7890\n",
      "Epoch 68/200\n",
      "507/507 [==============================] - 0s 61us/step - loss: 0.5510 - acc: 0.7968\n",
      "Epoch 69/200\n",
      "507/507 [==============================] - 0s 65us/step - loss: 0.5645 - acc: 0.7535\n",
      "Epoch 70/200\n",
      "507/507 [==============================] - 0s 59us/step - loss: 0.5699 - acc: 0.7791\n",
      "Epoch 71/200\n",
      "507/507 [==============================] - 0s 73us/step - loss: 0.5484 - acc: 0.8028\n",
      "Epoch 72/200\n",
      "507/507 [==============================] - 0s 63us/step - loss: 0.5468 - acc: 0.7791\n",
      "Epoch 73/200\n",
      "507/507 [==============================] - 0s 55us/step - loss: 0.5518 - acc: 0.7968\n",
      "Epoch 74/200\n",
      "507/507 [==============================] - 0s 53us/step - loss: 0.5503 - acc: 0.7909\n",
      "Epoch 75/200\n",
      "507/507 [==============================] - 0s 65us/step - loss: 0.5537 - acc: 0.7890\n",
      "Epoch 76/200\n",
      "507/507 [==============================] - 0s 65us/step - loss: 0.5435 - acc: 0.8008\n",
      "Epoch 77/200\n",
      "507/507 [==============================] - 0s 59us/step - loss: 0.5396 - acc: 0.7870\n",
      "Epoch 78/200\n",
      "507/507 [==============================] - 0s 57us/step - loss: 0.5454 - acc: 0.8107\n",
      "Epoch 79/200\n",
      "507/507 [==============================] - 0s 65us/step - loss: 0.5407 - acc: 0.8087\n",
      "Epoch 80/200\n",
      "507/507 [==============================] - 0s 61us/step - loss: 0.5401 - acc: 0.7949\n",
      "Epoch 81/200\n",
      "507/507 [==============================] - 0s 55us/step - loss: 0.5440 - acc: 0.8047\n",
      "Epoch 82/200\n",
      "507/507 [==============================] - 0s 55us/step - loss: 0.5429 - acc: 0.8028\n",
      "Epoch 83/200\n",
      "507/507 [==============================] - 0s 59us/step - loss: 0.5456 - acc: 0.7909\n",
      "Epoch 84/200\n"
     ]
    },
    {
     "name": "stdout",
     "output_type": "stream",
     "text": [
      "507/507 [==============================] - 0s 61us/step - loss: 0.5500 - acc: 0.7811\n",
      "Epoch 85/200\n",
      "507/507 [==============================] - 0s 61us/step - loss: 0.5328 - acc: 0.8205\n",
      "Epoch 86/200\n",
      "507/507 [==============================] - 0s 67us/step - loss: 0.5501 - acc: 0.8008\n",
      "Epoch 87/200\n",
      "507/507 [==============================] - 0s 99us/step - loss: 0.5364 - acc: 0.8067\n",
      "Epoch 88/200\n",
      "507/507 [==============================] - 0s 91us/step - loss: 0.5371 - acc: 0.8047\n",
      "Epoch 89/200\n",
      "507/507 [==============================] - 0s 87us/step - loss: 0.5417 - acc: 0.7949\n",
      "Epoch 90/200\n",
      "507/507 [==============================] - 0s 97us/step - loss: 0.5382 - acc: 0.8166\n",
      "Epoch 91/200\n",
      "507/507 [==============================] - 0s 99us/step - loss: 0.5350 - acc: 0.8087\n",
      "Epoch 92/200\n",
      "507/507 [==============================] - 0s 101us/step - loss: 0.5438 - acc: 0.7870\n",
      "Epoch 93/200\n",
      "507/507 [==============================] - 0s 104us/step - loss: 0.5347 - acc: 0.7949\n",
      "Epoch 94/200\n",
      "507/507 [==============================] - 0s 99us/step - loss: 0.5326 - acc: 0.8047\n",
      "Epoch 95/200\n",
      "507/507 [==============================] - 0s 103us/step - loss: 0.5301 - acc: 0.8166\n",
      "Epoch 96/200\n",
      "507/507 [==============================] - 0s 103us/step - loss: 0.5317 - acc: 0.8107\n",
      "Epoch 97/200\n",
      "507/507 [==============================] - 0s 81us/step - loss: 0.5245 - acc: 0.8225\n",
      "Epoch 98/200\n",
      "507/507 [==============================] - 0s 81us/step - loss: 0.5413 - acc: 0.8087\n",
      "Epoch 99/200\n",
      "507/507 [==============================] - 0s 71us/step - loss: 0.5281 - acc: 0.8245\n",
      "Epoch 100/200\n",
      "507/507 [==============================] - 0s 75us/step - loss: 0.5431 - acc: 0.8107\n",
      "Epoch 101/200\n",
      "507/507 [==============================] - 0s 57us/step - loss: 0.5295 - acc: 0.8087\n",
      "Epoch 102/200\n",
      "507/507 [==============================] - 0s 59us/step - loss: 0.5335 - acc: 0.8146\n",
      "Epoch 103/200\n",
      "507/507 [==============================] - 0s 47us/step - loss: 0.5250 - acc: 0.8245\n",
      "Epoch 104/200\n",
      "507/507 [==============================] - 0s 51us/step - loss: 0.5365 - acc: 0.8008\n",
      "Epoch 105/200\n",
      "507/507 [==============================] - 0s 63us/step - loss: 0.5251 - acc: 0.8304\n",
      "Epoch 106/200\n",
      "507/507 [==============================] - 0s 63us/step - loss: 0.5358 - acc: 0.8126\n",
      "Epoch 107/200\n",
      "507/507 [==============================] - 0s 63us/step - loss: 0.5289 - acc: 0.8205\n",
      "Epoch 108/200\n",
      "507/507 [==============================] - 0s 51us/step - loss: 0.5290 - acc: 0.8185\n",
      "Epoch 109/200\n",
      "507/507 [==============================] - 0s 59us/step - loss: 0.5290 - acc: 0.8146\n",
      "Epoch 110/200\n",
      "507/507 [==============================] - 0s 61us/step - loss: 0.5282 - acc: 0.8067\n",
      "Epoch 111/200\n",
      "507/507 [==============================] - 0s 57us/step - loss: 0.5304 - acc: 0.8166\n",
      "Epoch 112/200\n",
      "507/507 [==============================] - 0s 75us/step - loss: 0.5207 - acc: 0.8225\n",
      "Epoch 113/200\n",
      "507/507 [==============================] - 0s 65us/step - loss: 0.5199 - acc: 0.8225\n",
      "Epoch 114/200\n",
      "507/507 [==============================] - 0s 53us/step - loss: 0.5227 - acc: 0.8245\n",
      "Epoch 115/200\n",
      "507/507 [==============================] - 0s 59us/step - loss: 0.5206 - acc: 0.8245\n",
      "Epoch 116/200\n",
      "507/507 [==============================] - 0s 65us/step - loss: 0.5193 - acc: 0.8146\n",
      "Epoch 117/200\n",
      "507/507 [==============================] - 0s 61us/step - loss: 0.5176 - acc: 0.8343\n",
      "Epoch 118/200\n",
      "507/507 [==============================] - 0s 51us/step - loss: 0.5194 - acc: 0.8225\n",
      "Epoch 119/200\n",
      "507/507 [==============================] - 0s 51us/step - loss: 0.5213 - acc: 0.8225\n",
      "Epoch 120/200\n",
      "507/507 [==============================] - 0s 63us/step - loss: 0.5165 - acc: 0.8225\n",
      "Epoch 121/200\n",
      "507/507 [==============================] - 0s 67us/step - loss: 0.5230 - acc: 0.8107\n",
      "Epoch 122/200\n",
      "507/507 [==============================] - 0s 63us/step - loss: 0.5203 - acc: 0.8264\n",
      "Epoch 123/200\n",
      "507/507 [==============================] - 0s 51us/step - loss: 0.5310 - acc: 0.8126\n",
      "Epoch 124/200\n",
      "507/507 [==============================] - 0s 69us/step - loss: 0.5272 - acc: 0.8087\n",
      "Epoch 125/200\n",
      "507/507 [==============================] - 0s 59us/step - loss: 0.5240 - acc: 0.8185\n",
      "Epoch 126/200\n",
      "507/507 [==============================] - 0s 59us/step - loss: 0.5160 - acc: 0.8284\n",
      "Epoch 127/200\n",
      "507/507 [==============================] - ETA: 0s - loss: 0.5044 - acc: 0.812 - 0s 61us/step - loss: 0.5181 - acc: 0.8284\n",
      "Epoch 128/200\n",
      "507/507 [==============================] - 0s 57us/step - loss: 0.5120 - acc: 0.8284\n",
      "Epoch 129/200\n",
      "507/507 [==============================] - 0s 57us/step - loss: 0.5131 - acc: 0.8264\n",
      "Epoch 130/200\n",
      "507/507 [==============================] - 0s 61us/step - loss: 0.5201 - acc: 0.8284\n",
      "Epoch 131/200\n",
      "507/507 [==============================] - 0s 61us/step - loss: 0.5165 - acc: 0.8304\n",
      "Epoch 132/200\n",
      "507/507 [==============================] - 0s 67us/step - loss: 0.5089 - acc: 0.8383\n",
      "Epoch 133/200\n",
      "507/507 [==============================] - 0s 51us/step - loss: 0.5120 - acc: 0.8284\n",
      "Epoch 134/200\n",
      "507/507 [==============================] - 0s 59us/step - loss: 0.5125 - acc: 0.8402\n",
      "Epoch 135/200\n",
      "507/507 [==============================] - 0s 59us/step - loss: 0.5097 - acc: 0.8284\n",
      "Epoch 136/200\n",
      "507/507 [==============================] - 0s 61us/step - loss: 0.5108 - acc: 0.8225\n",
      "Epoch 137/200\n",
      "507/507 [==============================] - 0s 67us/step - loss: 0.5110 - acc: 0.8304\n",
      "Epoch 138/200\n",
      "507/507 [==============================] - 0s 81us/step - loss: 0.5124 - acc: 0.8284\n",
      "Epoch 139/200\n",
      "507/507 [==============================] - 0s 71us/step - loss: 0.5189 - acc: 0.8245\n",
      "Epoch 140/200\n",
      "507/507 [==============================] - 0s 73us/step - loss: 0.5043 - acc: 0.8343\n",
      "Epoch 141/200\n",
      "507/507 [==============================] - 0s 81us/step - loss: 0.5138 - acc: 0.8264\n",
      "Epoch 142/200\n",
      "507/507 [==============================] - 0s 73us/step - loss: 0.5142 - acc: 0.8284\n",
      "Epoch 143/200\n",
      "507/507 [==============================] - 0s 71us/step - loss: 0.5109 - acc: 0.8225\n",
      "Epoch 144/200\n",
      "507/507 [==============================] - 0s 83us/step - loss: 0.5211 - acc: 0.8304\n",
      "Epoch 145/200\n",
      "507/507 [==============================] - 0s 75us/step - loss: 0.5105 - acc: 0.8304\n",
      "Epoch 146/200\n",
      "507/507 [==============================] - 0s 71us/step - loss: 0.5081 - acc: 0.8323\n",
      "Epoch 147/200\n",
      "507/507 [==============================] - 0s 69us/step - loss: 0.5161 - acc: 0.8363\n",
      "Epoch 148/200\n",
      "507/507 [==============================] - 0s 81us/step - loss: 0.5032 - acc: 0.8323\n",
      "Epoch 149/200\n",
      "507/507 [==============================] - 0s 65us/step - loss: 0.5128 - acc: 0.8304\n",
      "Epoch 150/200\n",
      "507/507 [==============================] - 0s 65us/step - loss: 0.5030 - acc: 0.8343\n",
      "Epoch 151/200\n",
      "507/507 [==============================] - 0s 65us/step - loss: 0.5026 - acc: 0.8402\n",
      "Epoch 152/200\n",
      "507/507 [==============================] - 0s 77us/step - loss: 0.5057 - acc: 0.8225\n",
      "Epoch 153/200\n",
      "507/507 [==============================] - 0s 61us/step - loss: 0.4976 - acc: 0.8481\n",
      "Epoch 154/200\n",
      "507/507 [==============================] - 0s 61us/step - loss: 0.5013 - acc: 0.8323\n",
      "Epoch 155/200\n",
      "507/507 [==============================] - 0s 63us/step - loss: 0.5092 - acc: 0.8205\n",
      "Epoch 156/200\n",
      "507/507 [==============================] - 0s 61us/step - loss: 0.4978 - acc: 0.8304\n",
      "Epoch 157/200\n",
      "507/507 [==============================] - 0s 59us/step - loss: 0.5081 - acc: 0.8185\n",
      "Epoch 158/200\n",
      "507/507 [==============================] - 0s 53us/step - loss: 0.5042 - acc: 0.8402\n",
      "Epoch 159/200\n",
      "507/507 [==============================] - 0s 53us/step - loss: 0.5011 - acc: 0.8402\n",
      "Epoch 160/200\n",
      "507/507 [==============================] - 0s 63us/step - loss: 0.4945 - acc: 0.8363\n",
      "Epoch 161/200\n",
      "507/507 [==============================] - 0s 57us/step - loss: 0.5128 - acc: 0.8323\n",
      "Epoch 162/200\n",
      "507/507 [==============================] - 0s 49us/step - loss: 0.4996 - acc: 0.8383\n",
      "Epoch 163/200\n",
      "507/507 [==============================] - 0s 57us/step - loss: 0.5008 - acc: 0.8462\n",
      "Epoch 164/200\n",
      "507/507 [==============================] - 0s 55us/step - loss: 0.4980 - acc: 0.8402\n",
      "Epoch 165/200\n",
      "507/507 [==============================] - 0s 53us/step - loss: 0.4915 - acc: 0.8442\n",
      "Epoch 166/200\n"
     ]
    },
    {
     "name": "stdout",
     "output_type": "stream",
     "text": [
      "507/507 [==============================] - 0s 55us/step - loss: 0.4991 - acc: 0.8363\n",
      "Epoch 167/200\n",
      "507/507 [==============================] - 0s 51us/step - loss: 0.4985 - acc: 0.8442\n",
      "Epoch 168/200\n",
      "507/507 [==============================] - 0s 47us/step - loss: 0.5000 - acc: 0.8383\n",
      "Epoch 169/200\n",
      "507/507 [==============================] - 0s 61us/step - loss: 0.5019 - acc: 0.8264\n",
      "Epoch 170/200\n",
      "507/507 [==============================] - 0s 57us/step - loss: 0.4997 - acc: 0.8363\n",
      "Epoch 171/200\n",
      "507/507 [==============================] - 0s 57us/step - loss: 0.5019 - acc: 0.8323\n",
      "Epoch 172/200\n",
      "507/507 [==============================] - 0s 63us/step - loss: 0.4960 - acc: 0.8284\n",
      "Epoch 173/200\n",
      "507/507 [==============================] - 0s 59us/step - loss: 0.5000 - acc: 0.8462\n",
      "Epoch 174/200\n",
      "507/507 [==============================] - 0s 61us/step - loss: 0.4934 - acc: 0.8383\n",
      "Epoch 175/200\n",
      "507/507 [==============================] - 0s 59us/step - loss: 0.4950 - acc: 0.8481\n",
      "Epoch 176/200\n",
      "507/507 [==============================] - 0s 63us/step - loss: 0.4940 - acc: 0.8323\n",
      "Epoch 177/200\n",
      "507/507 [==============================] - 0s 59us/step - loss: 0.4867 - acc: 0.8462\n",
      "Epoch 178/200\n",
      "507/507 [==============================] - 0s 59us/step - loss: 0.4979 - acc: 0.8323\n",
      "Epoch 179/200\n",
      "507/507 [==============================] - 0s 51us/step - loss: 0.4908 - acc: 0.8422\n",
      "Epoch 180/200\n",
      "507/507 [==============================] - 0s 71us/step - loss: 0.4883 - acc: 0.8462\n",
      "Epoch 181/200\n",
      "507/507 [==============================] - 0s 47us/step - loss: 0.4903 - acc: 0.8422\n",
      "Epoch 182/200\n",
      "507/507 [==============================] - 0s 61us/step - loss: 0.4933 - acc: 0.8462\n",
      "Epoch 183/200\n",
      "507/507 [==============================] - 0s 59us/step - loss: 0.5040 - acc: 0.8323\n",
      "Epoch 184/200\n",
      "507/507 [==============================] - 0s 53us/step - loss: 0.4904 - acc: 0.8343\n",
      "Epoch 185/200\n",
      "507/507 [==============================] - 0s 55us/step - loss: 0.4967 - acc: 0.8383\n",
      "Epoch 186/200\n",
      "507/507 [==============================] - 0s 55us/step - loss: 0.4992 - acc: 0.8304\n",
      "Epoch 187/200\n",
      "507/507 [==============================] - 0s 63us/step - loss: 0.4941 - acc: 0.8383\n",
      "Epoch 188/200\n",
      "507/507 [==============================] - 0s 63us/step - loss: 0.4992 - acc: 0.8343\n",
      "Epoch 189/200\n",
      "507/507 [==============================] - 0s 53us/step - loss: 0.4897 - acc: 0.8383\n",
      "Epoch 190/200\n",
      "507/507 [==============================] - 0s 53us/step - loss: 0.4825 - acc: 0.8481\n",
      "Epoch 191/200\n",
      "507/507 [==============================] - 0s 61us/step - loss: 0.4905 - acc: 0.8383\n",
      "Epoch 192/200\n",
      "507/507 [==============================] - 0s 61us/step - loss: 0.4810 - acc: 0.8402\n",
      "Epoch 193/200\n",
      "507/507 [==============================] - 0s 67us/step - loss: 0.4915 - acc: 0.8383\n",
      "Epoch 194/200\n",
      "507/507 [==============================] - 0s 55us/step - loss: 0.4869 - acc: 0.8343\n",
      "Epoch 195/200\n",
      "507/507 [==============================] - 0s 61us/step - loss: 0.4787 - acc: 0.8363\n",
      "Epoch 196/200\n",
      "507/507 [==============================] - 0s 55us/step - loss: 0.4834 - acc: 0.8422\n",
      "Epoch 197/200\n",
      "507/507 [==============================] - 0s 63us/step - loss: 0.4896 - acc: 0.8284\n",
      "Epoch 198/200\n",
      "507/507 [==============================] - 0s 55us/step - loss: 0.4946 - acc: 0.8264\n",
      "Epoch 199/200\n",
      "507/507 [==============================] - 0s 55us/step - loss: 0.4816 - acc: 0.8402\n",
      "Epoch 200/200\n",
      "507/507 [==============================] - 0s 63us/step - loss: 0.4880 - acc: 0.8323\n"
     ]
    },
    {
     "data": {
      "text/plain": [
       "<keras.callbacks.History at 0x27017e0ccf8>"
      ]
     },
     "execution_count": 12,
     "metadata": {},
     "output_type": "execute_result"
    }
   ],
   "source": [
    "wide_and_deep_model.fit(X_train, y_train_onehot, batch_size=32, epochs=200)"
   ]
  },
  {
   "cell_type": "markdown",
   "metadata": {
    "colab_type": "text",
    "id": "6u-dhe6EBjvW"
   },
   "source": [
    "The result showed that the training accuracy was about 89%. The training log also showed that each epoch took approximately 0.25 ms on average and running 200 epochs took 50 ms. "
   ]
  },
  {
   "cell_type": "markdown",
   "metadata": {
    "colab_type": "text",
    "id": "IfQXLFw5NHVk"
   },
   "source": [
    "# Evaluate the testing data accuracy"
   ]
  },
  {
   "cell_type": "markdown",
   "metadata": {
    "colab_type": "text",
    "id": "DkOUQWEkJVD1"
   },
   "source": [
    "After training the wide and deep neural network, the testing data and label were fed into the neural network to evaluate the testing data accuracy"
   ]
  },
  {
   "cell_type": "code",
   "execution_count": 13,
   "metadata": {
    "colab": {
     "base_uri": "https://localhost:8080/",
     "height": 50
    },
    "colab_type": "code",
    "id": "uRY4-tgIwv8i",
    "outputId": "5ad0f0e8-c353-46ae-b506-7ceb8baba691"
   },
   "outputs": [
    {
     "name": "stdout",
     "output_type": "stream",
     "text": [
      "169/169 [==============================] - 0s 367us/step\n"
     ]
    },
    {
     "data": {
      "text/plain": [
       "[0.42130247384486114, 0.863905325443787]"
      ]
     },
     "execution_count": 13,
     "metadata": {},
     "output_type": "execute_result"
    }
   ],
   "source": [
    "wide_and_deep_model.evaluate(X_test, y_test_onehot)"
   ]
  },
  {
   "cell_type": "markdown",
   "metadata": {
    "colab_type": "text",
    "id": "Mz0AE52nPeMi"
   },
   "source": [
    "The testing data accuracy was extremely accurate. "
   ]
  },
  {
   "cell_type": "markdown",
   "metadata": {
    "colab_type": "text",
    "id": "Bp9W4PAWQhAR"
   },
   "source": [
    "# Conclusion"
   ]
  },
  {
   "cell_type": "markdown",
   "metadata": {
    "colab_type": "text",
    "id": "3YQumU6OQrmV"
   },
   "source": [
    "The above testing result has shown that using a wide and deep neural network to predict the trend of a time series financial data is pretty accurate. The wide network memorizes the up-and-down patterns and the deep network generalizes the conditions so that the whole model can still generate accurate data when being fed some totally new data to the model. \n",
    "\n",
    "In the future, I might improve the accuracy by increasing the width of the wide side of the model so that more characteristics of the data can be memorized. Meanwhile, the deep side can be added more layers so that more general cases can be covered. Moreover, obtaining the training input data by moving the selection window across all the training data can improve the training and testing accuracy because the current method of getting data block by block might omit some crossed trend patterns. "
   ]
  },
  {
   "cell_type": "code",
   "execution_count": null,
   "metadata": {},
   "outputs": [],
   "source": []
  }
 ],
 "metadata": {
  "accelerator": "GPU",
  "colab": {
   "collapsed_sections": [],
   "name": "Untitled2.ipynb",
   "provenance": [],
   "toc_visible": true,
   "version": "0.3.2"
  },
  "kernelspec": {
   "display_name": "Python 3",
   "language": "python",
   "name": "python3"
  },
  "language_info": {
   "codemirror_mode": {
    "name": "ipython",
    "version": 3
   },
   "file_extension": ".py",
   "mimetype": "text/x-python",
   "name": "python",
   "nbconvert_exporter": "python",
   "pygments_lexer": "ipython3",
   "version": "3.6.2"
  }
 },
 "nbformat": 4,
 "nbformat_minor": 1
}
